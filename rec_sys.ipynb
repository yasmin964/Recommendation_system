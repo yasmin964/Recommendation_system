{
 "cells": [
  {
   "cell_type": "code",
   "id": "initial_id",
   "metadata": {
    "collapsed": true,
    "ExecuteTime": {
     "end_time": "2025-06-08T07:45:02.102684Z",
     "start_time": "2025-06-08T07:45:02.021978Z"
    }
   },
   "source": [
    "import pandas as pd\n",
    "import numpy as np\n",
    "\n",
    "data = pd.read_csv('u.data', sep='\\t')"
   ],
   "outputs": [],
   "execution_count": 43
  },
  {
   "metadata": {
    "ExecuteTime": {
     "end_time": "2025-06-08T07:45:02.716371Z",
     "start_time": "2025-06-08T07:45:02.704966Z"
    }
   },
   "cell_type": "code",
   "source": "data.head()",
   "id": "111376ce89f63c06",
   "outputs": [
    {
     "data": {
      "text/plain": [
       "   user_id  item_id  rating  timestamp\n",
       "0      196      242       3  881250949\n",
       "1      186      302       3  891717742\n",
       "2       22      377       1  878887116\n",
       "3      244       51       2  880606923\n",
       "4      166      346       1  886397596"
      ],
      "text/html": [
       "<div>\n",
       "<style scoped>\n",
       "    .dataframe tbody tr th:only-of-type {\n",
       "        vertical-align: middle;\n",
       "    }\n",
       "\n",
       "    .dataframe tbody tr th {\n",
       "        vertical-align: top;\n",
       "    }\n",
       "\n",
       "    .dataframe thead th {\n",
       "        text-align: right;\n",
       "    }\n",
       "</style>\n",
       "<table border=\"1\" class=\"dataframe\">\n",
       "  <thead>\n",
       "    <tr style=\"text-align: right;\">\n",
       "      <th></th>\n",
       "      <th>user_id</th>\n",
       "      <th>item_id</th>\n",
       "      <th>rating</th>\n",
       "      <th>timestamp</th>\n",
       "    </tr>\n",
       "  </thead>\n",
       "  <tbody>\n",
       "    <tr>\n",
       "      <th>0</th>\n",
       "      <td>196</td>\n",
       "      <td>242</td>\n",
       "      <td>3</td>\n",
       "      <td>881250949</td>\n",
       "    </tr>\n",
       "    <tr>\n",
       "      <th>1</th>\n",
       "      <td>186</td>\n",
       "      <td>302</td>\n",
       "      <td>3</td>\n",
       "      <td>891717742</td>\n",
       "    </tr>\n",
       "    <tr>\n",
       "      <th>2</th>\n",
       "      <td>22</td>\n",
       "      <td>377</td>\n",
       "      <td>1</td>\n",
       "      <td>878887116</td>\n",
       "    </tr>\n",
       "    <tr>\n",
       "      <th>3</th>\n",
       "      <td>244</td>\n",
       "      <td>51</td>\n",
       "      <td>2</td>\n",
       "      <td>880606923</td>\n",
       "    </tr>\n",
       "    <tr>\n",
       "      <th>4</th>\n",
       "      <td>166</td>\n",
       "      <td>346</td>\n",
       "      <td>1</td>\n",
       "      <td>886397596</td>\n",
       "    </tr>\n",
       "  </tbody>\n",
       "</table>\n",
       "</div>"
      ]
     },
     "execution_count": 44,
     "metadata": {},
     "output_type": "execute_result"
    }
   ],
   "execution_count": 44
  },
  {
   "metadata": {
    "ExecuteTime": {
     "end_time": "2025-06-08T07:45:06.126120Z",
     "start_time": "2025-06-08T07:45:04.655905Z"
    }
   },
   "cell_type": "code",
   "source": [
    "from sklearn.model_selection import train_test_split\n",
    "\n",
    "# Создаем тренировочную и тестовую выборки\n",
    "train_data = []\n",
    "test_data = []\n",
    "\n",
    "for user in data['user_id'].unique():\n",
    "    user_ratings = data[data['user_id'] == user]\n",
    "    if len(user_ratings) < 5:\n",
    "        continue  # мало данных — пропускаем\n",
    "\n",
    "    train_u, test_u = train_test_split(user_ratings, test_size=0.2, random_state=42)\n",
    "    train_data.append(train_u)\n",
    "    test_data.append(test_u)\n",
    "\n",
    "train = pd.concat(train_data)\n",
    "test = pd.concat(test_data)\n"
   ],
   "id": "a30db0e274fac136",
   "outputs": [],
   "execution_count": 45
  },
  {
   "metadata": {
    "ExecuteTime": {
     "end_time": "2025-06-04T22:12:54.498502Z",
     "start_time": "2025-06-04T22:12:54.476059Z"
    }
   },
   "cell_type": "code",
   "source": [
    "movie = pd.read_csv('u.item.csv', sep='|')\n",
    "movie.head()"
   ],
   "id": "3ee130915cced5f7",
   "outputs": [
    {
     "data": {
      "text/plain": [
       "   movie id        movie title   release date    video release date   \\\n",
       "0          1   Toy Story (1995)    01-Jan-1995                   NaN   \n",
       "1          2   GoldenEye (1995)    01-Jan-1995                   NaN   \n",
       "2          3  Four Rooms (1995)    01-Jan-1995                   NaN   \n",
       "3          4  Get Shorty (1995)    01-Jan-1995                   NaN   \n",
       "4          5     Copycat (1995)    01-Jan-1995                   NaN   \n",
       "\n",
       "                                           IMDb URL    unknown    Action   \\\n",
       "0  http://us.imdb.com/M/title-exact?Toy%20Story%2...          0         0   \n",
       "1  http://us.imdb.com/M/title-exact?GoldenEye%20(...          0         1   \n",
       "2  http://us.imdb.com/M/title-exact?Four%20Rooms%...          0         0   \n",
       "3  http://us.imdb.com/M/title-exact?Get%20Shorty%...          0         1   \n",
       "4  http://us.imdb.com/M/title-exact?Copycat%20(1995)          0         0   \n",
       "\n",
       "    Adventure    Animation    Children's   ...   Film-Noir    Horror   \\\n",
       "0            0            1             1  ...            0         0   \n",
       "1            1            0             0  ...            0         0   \n",
       "2            0            0             0  ...            0         0   \n",
       "3            0            0             0  ...            0         0   \n",
       "4            0            0             0  ...            0         0   \n",
       "\n",
       "    Musical    Mystery    Romance    Sci-Fi    Thriller    War    Western   \\\n",
       "0          0          0          0         0           0      0          0   \n",
       "1          0          0          0         0           1      0          0   \n",
       "2          0          0          0         0           1      0          0   \n",
       "3          0          0          0         0           0      0          0   \n",
       "4          0          0          0         0           1      0          0   \n",
       "\n",
       "   Unnamed: 24  \n",
       "0          NaN  \n",
       "1          NaN  \n",
       "2          NaN  \n",
       "3          NaN  \n",
       "4          NaN  \n",
       "\n",
       "[5 rows x 25 columns]"
      ],
      "text/html": [
       "<div>\n",
       "<style scoped>\n",
       "    .dataframe tbody tr th:only-of-type {\n",
       "        vertical-align: middle;\n",
       "    }\n",
       "\n",
       "    .dataframe tbody tr th {\n",
       "        vertical-align: top;\n",
       "    }\n",
       "\n",
       "    .dataframe thead th {\n",
       "        text-align: right;\n",
       "    }\n",
       "</style>\n",
       "<table border=\"1\" class=\"dataframe\">\n",
       "  <thead>\n",
       "    <tr style=\"text-align: right;\">\n",
       "      <th></th>\n",
       "      <th>movie id</th>\n",
       "      <th>movie title</th>\n",
       "      <th>release date</th>\n",
       "      <th>video release date</th>\n",
       "      <th>IMDb URL</th>\n",
       "      <th>unknown</th>\n",
       "      <th>Action</th>\n",
       "      <th>Adventure</th>\n",
       "      <th>Animation</th>\n",
       "      <th>Children's</th>\n",
       "      <th>...</th>\n",
       "      <th>Film-Noir</th>\n",
       "      <th>Horror</th>\n",
       "      <th>Musical</th>\n",
       "      <th>Mystery</th>\n",
       "      <th>Romance</th>\n",
       "      <th>Sci-Fi</th>\n",
       "      <th>Thriller</th>\n",
       "      <th>War</th>\n",
       "      <th>Western</th>\n",
       "      <th>Unnamed: 24</th>\n",
       "    </tr>\n",
       "  </thead>\n",
       "  <tbody>\n",
       "    <tr>\n",
       "      <th>0</th>\n",
       "      <td>1</td>\n",
       "      <td>Toy Story (1995)</td>\n",
       "      <td>01-Jan-1995</td>\n",
       "      <td>NaN</td>\n",
       "      <td>http://us.imdb.com/M/title-exact?Toy%20Story%2...</td>\n",
       "      <td>0</td>\n",
       "      <td>0</td>\n",
       "      <td>0</td>\n",
       "      <td>1</td>\n",
       "      <td>1</td>\n",
       "      <td>...</td>\n",
       "      <td>0</td>\n",
       "      <td>0</td>\n",
       "      <td>0</td>\n",
       "      <td>0</td>\n",
       "      <td>0</td>\n",
       "      <td>0</td>\n",
       "      <td>0</td>\n",
       "      <td>0</td>\n",
       "      <td>0</td>\n",
       "      <td>NaN</td>\n",
       "    </tr>\n",
       "    <tr>\n",
       "      <th>1</th>\n",
       "      <td>2</td>\n",
       "      <td>GoldenEye (1995)</td>\n",
       "      <td>01-Jan-1995</td>\n",
       "      <td>NaN</td>\n",
       "      <td>http://us.imdb.com/M/title-exact?GoldenEye%20(...</td>\n",
       "      <td>0</td>\n",
       "      <td>1</td>\n",
       "      <td>1</td>\n",
       "      <td>0</td>\n",
       "      <td>0</td>\n",
       "      <td>...</td>\n",
       "      <td>0</td>\n",
       "      <td>0</td>\n",
       "      <td>0</td>\n",
       "      <td>0</td>\n",
       "      <td>0</td>\n",
       "      <td>0</td>\n",
       "      <td>1</td>\n",
       "      <td>0</td>\n",
       "      <td>0</td>\n",
       "      <td>NaN</td>\n",
       "    </tr>\n",
       "    <tr>\n",
       "      <th>2</th>\n",
       "      <td>3</td>\n",
       "      <td>Four Rooms (1995)</td>\n",
       "      <td>01-Jan-1995</td>\n",
       "      <td>NaN</td>\n",
       "      <td>http://us.imdb.com/M/title-exact?Four%20Rooms%...</td>\n",
       "      <td>0</td>\n",
       "      <td>0</td>\n",
       "      <td>0</td>\n",
       "      <td>0</td>\n",
       "      <td>0</td>\n",
       "      <td>...</td>\n",
       "      <td>0</td>\n",
       "      <td>0</td>\n",
       "      <td>0</td>\n",
       "      <td>0</td>\n",
       "      <td>0</td>\n",
       "      <td>0</td>\n",
       "      <td>1</td>\n",
       "      <td>0</td>\n",
       "      <td>0</td>\n",
       "      <td>NaN</td>\n",
       "    </tr>\n",
       "    <tr>\n",
       "      <th>3</th>\n",
       "      <td>4</td>\n",
       "      <td>Get Shorty (1995)</td>\n",
       "      <td>01-Jan-1995</td>\n",
       "      <td>NaN</td>\n",
       "      <td>http://us.imdb.com/M/title-exact?Get%20Shorty%...</td>\n",
       "      <td>0</td>\n",
       "      <td>1</td>\n",
       "      <td>0</td>\n",
       "      <td>0</td>\n",
       "      <td>0</td>\n",
       "      <td>...</td>\n",
       "      <td>0</td>\n",
       "      <td>0</td>\n",
       "      <td>0</td>\n",
       "      <td>0</td>\n",
       "      <td>0</td>\n",
       "      <td>0</td>\n",
       "      <td>0</td>\n",
       "      <td>0</td>\n",
       "      <td>0</td>\n",
       "      <td>NaN</td>\n",
       "    </tr>\n",
       "    <tr>\n",
       "      <th>4</th>\n",
       "      <td>5</td>\n",
       "      <td>Copycat (1995)</td>\n",
       "      <td>01-Jan-1995</td>\n",
       "      <td>NaN</td>\n",
       "      <td>http://us.imdb.com/M/title-exact?Copycat%20(1995)</td>\n",
       "      <td>0</td>\n",
       "      <td>0</td>\n",
       "      <td>0</td>\n",
       "      <td>0</td>\n",
       "      <td>0</td>\n",
       "      <td>...</td>\n",
       "      <td>0</td>\n",
       "      <td>0</td>\n",
       "      <td>0</td>\n",
       "      <td>0</td>\n",
       "      <td>0</td>\n",
       "      <td>0</td>\n",
       "      <td>1</td>\n",
       "      <td>0</td>\n",
       "      <td>0</td>\n",
       "      <td>NaN</td>\n",
       "    </tr>\n",
       "  </tbody>\n",
       "</table>\n",
       "<p>5 rows × 25 columns</p>\n",
       "</div>"
      ]
     },
     "execution_count": 23,
     "metadata": {},
     "output_type": "execute_result"
    }
   ],
   "execution_count": 23
  },
  {
   "metadata": {
    "ExecuteTime": {
     "end_time": "2025-06-08T07:45:41.159152Z",
     "start_time": "2025-06-08T07:45:41.013511Z"
    }
   },
   "cell_type": "code",
   "source": [
    "user_item = pd.pivot_table(train, index=['user_id'], columns=['item_id'], values='rating')\n",
    "print(user_item)\n",
    "# Пропуски = фильмы, которые пользователь не оценивал"
   ],
   "id": "868fc9c07ddae75f",
   "outputs": [
    {
     "name": "stdout",
     "output_type": "stream",
     "text": [
      "item_id  1     2     3     4     5     6     7     8     9     10    ...  \\\n",
      "user_id                                                              ...   \n",
      "1         5.0   NaN   4.0   NaN   3.0   5.0   4.0   1.0   5.0   3.0  ...   \n",
      "2         NaN   NaN   NaN   NaN   NaN   NaN   NaN   NaN   NaN   2.0  ...   \n",
      "3         NaN   NaN   NaN   NaN   NaN   NaN   NaN   NaN   NaN   NaN  ...   \n",
      "4         NaN   NaN   NaN   NaN   NaN   NaN   NaN   NaN   NaN   NaN  ...   \n",
      "5         4.0   3.0   NaN   NaN   NaN   NaN   NaN   NaN   NaN   NaN  ...   \n",
      "...       ...   ...   ...   ...   ...   ...   ...   ...   ...   ...  ...   \n",
      "939       NaN   NaN   NaN   NaN   NaN   NaN   NaN   NaN   5.0   NaN  ...   \n",
      "940       NaN   NaN   NaN   2.0   NaN   NaN   4.0   5.0   3.0   NaN  ...   \n",
      "941       5.0   NaN   NaN   NaN   NaN   NaN   4.0   NaN   NaN   NaN  ...   \n",
      "942       NaN   NaN   NaN   NaN   NaN   NaN   NaN   NaN   NaN   NaN  ...   \n",
      "943       NaN   5.0   NaN   NaN   NaN   NaN   NaN   NaN   3.0   NaN  ...   \n",
      "\n",
      "item_id  1669  1670  1671  1672  1674  1675  1678  1679  1681  1682  \n",
      "user_id                                                              \n",
      "1         NaN   NaN   NaN   NaN   NaN   NaN   NaN   NaN   NaN   NaN  \n",
      "2         NaN   NaN   NaN   NaN   NaN   NaN   NaN   NaN   NaN   NaN  \n",
      "3         NaN   NaN   NaN   NaN   NaN   NaN   NaN   NaN   NaN   NaN  \n",
      "4         NaN   NaN   NaN   NaN   NaN   NaN   NaN   NaN   NaN   NaN  \n",
      "5         NaN   NaN   NaN   NaN   NaN   NaN   NaN   NaN   NaN   NaN  \n",
      "...       ...   ...   ...   ...   ...   ...   ...   ...   ...   ...  \n",
      "939       NaN   NaN   NaN   NaN   NaN   NaN   NaN   NaN   NaN   NaN  \n",
      "940       NaN   NaN   NaN   NaN   NaN   NaN   NaN   NaN   NaN   NaN  \n",
      "941       NaN   NaN   NaN   NaN   NaN   NaN   NaN   NaN   NaN   NaN  \n",
      "942       NaN   NaN   NaN   NaN   NaN   NaN   NaN   NaN   NaN   NaN  \n",
      "943       NaN   NaN   NaN   NaN   NaN   NaN   NaN   NaN   NaN   NaN  \n",
      "\n",
      "[943 rows x 1650 columns]\n"
     ]
    }
   ],
   "execution_count": 46
  },
  {
   "metadata": {
    "ExecuteTime": {
     "end_time": "2025-06-08T07:45:47.058509Z",
     "start_time": "2025-06-08T07:45:46.969597Z"
    }
   },
   "cell_type": "code",
   "source": [
    "from sklearn.metrics.pairwise import cosine_similarity\n",
    "\n",
    "# СРАВНЕНИЕ TARGET_USER С USERS\n",
    "user_item_filled = user_item.fillna(0)\n",
    "\n",
    "# Считаем косинусную близость между всеми пользователями\n",
    "user_similarity = cosine_similarity(user_item_filled)\n",
    "\n",
    "user_similarity_df = pd.DataFrame(user_similarity, index=user_item.index, columns=user_item.index)\n",
    "\n",
    "# Посмотри на матрицу схожести\n",
    "print(user_similarity_df.head())"
   ],
   "id": "c3a74af726701088",
   "outputs": [
    {
     "name": "stdout",
     "output_type": "stream",
     "text": [
      "user_id       1         2         3         4         5         6         7    \\\n",
      "user_id                                                                         \n",
      "1        1.000000  0.152349  0.048171  0.022019  0.299385  0.364007  0.322829   \n",
      "2        0.152349  1.000000  0.087032  0.047745  0.049858  0.179185  0.050813   \n",
      "3        0.048171  0.087032  1.000000  0.350752  0.026884  0.050030  0.048190   \n",
      "4        0.022019  0.047745  0.350752  1.000000  0.012212  0.054798  0.054284   \n",
      "5        0.299385  0.049858  0.026884  0.012212  1.000000  0.190959  0.270403   \n",
      "\n",
      "user_id       8         9         10   ...       934       935       936  \\\n",
      "user_id                                ...                                 \n",
      "1        0.248686  0.098266  0.297693  ...  0.275895  0.099541  0.254412   \n",
      "2        0.019962  0.164051  0.117394  ...  0.140517  0.256546  0.259360   \n",
      "3        0.072764  0.000000  0.055858  ...  0.032070  0.000000  0.113153   \n",
      "4        0.128065  0.000000  0.035240  ...  0.036996  0.000000  0.064167   \n",
      "5        0.217464  0.028779  0.158216  ...  0.273380  0.057251  0.070228   \n",
      "\n",
      "user_id       937       938       939       940       941       942       943  \n",
      "user_id                                                                        \n",
      "1        0.181046  0.172651  0.110249  0.234332  0.098090  0.138327  0.326771  \n",
      "2        0.267276  0.235892  0.173460  0.215076  0.102095  0.099923  0.070549  \n",
      "3        0.051220  0.054599  0.018707  0.130559  0.085272  0.060253  0.019537  \n",
      "4        0.136058  0.096054  0.037765  0.134926  0.135260  0.085149  0.029582  \n",
      "5        0.042350  0.126486  0.056879  0.185099  0.081796  0.102290  0.244425  \n",
      "\n",
      "[5 rows x 943 columns]\n"
     ]
    }
   ],
   "execution_count": 47
  },
  {
   "metadata": {
    "ExecuteTime": {
     "end_time": "2025-06-08T07:46:28.643818Z",
     "start_time": "2025-06-08T07:46:28.623895Z"
    }
   },
   "cell_type": "code",
   "source": [
    "def recommend_movie(target_user, k = 5, n_recommendations = 5):\n",
    "\n",
    "    # самые похожие юзеры по убыванию \\ похожие пользователи для target_user \\ берём топ-k наиболее похожих пользователей\n",
    "    similar_users = user_similarity_df[target_user].drop(index=target_user).sort_values(ascending=False).head(k)\n",
    "    \n",
    "    weighted_scores = pd.Series(dtype=float)\n",
    "    for sim_user, similarity in similar_users.items():\n",
    "        #возвращает рейтинги, которые поставил этот пользователь.\n",
    "        sim_user_ratings = user_item.loc[sim_user]\n",
    "        # реально поставил\n",
    "        sim_user_ratings = sim_user_ratings[sim_user_ratings.notna()]\n",
    "        \n",
    "        # чем больше user похож на target_user тем больше центися его рейтинг\n",
    "        weighted = sim_user_ratings * similarity\n",
    "        weighted_scores = weighted_scores.add(weighted, fill_value=0)\n",
    "\n",
    "    # Убираем фильмы, которые target_user уже смотрел\n",
    "    target_user_seen = user_item.loc[target_user]\n",
    "    already_seen = target_user_seen[target_user_seen.notna()].index\n",
    "    weighted_scores = weighted_scores.drop(index=already_seen, errors='ignore')\n",
    "\n",
    "    # Топ-N рекомендаций\n",
    "    return weighted_scores.sort_values(ascending=False).head(n_recommendations)\n",
    "        "
   ],
   "id": "e8f7e71b73c05cd9",
   "outputs": [],
   "execution_count": 48
  },
  {
   "metadata": {
    "ExecuteTime": {
     "end_time": "2025-06-08T07:46:32.681959Z",
     "start_time": "2025-06-08T07:46:32.659024Z"
    }
   },
   "cell_type": "code",
   "source": [
    "recommendations = recommend_movie(target_user=1, k=5, n_recommendations=5)\n",
    "print(\"Recommended movie IDs:\\n\", recommendations)\n"
   ],
   "id": "93f823143ba05f80",
   "outputs": [
    {
     "name": "stdout",
     "output_type": "stream",
     "text": [
      "Recommended movie IDs:\n",
      " item_id\n",
      "238    9.849354\n",
      "83     9.013783\n",
      "134    8.598976\n",
      "582    8.143747\n",
      "479    8.121464\n",
      "dtype: float64\n"
     ]
    }
   ],
   "execution_count": 49
  },
  {
   "metadata": {
    "ExecuteTime": {
     "end_time": "2025-06-08T07:46:43.623353Z",
     "start_time": "2025-06-08T07:46:43.613261Z"
    }
   },
   "cell_type": "code",
   "source": [
    "# Получить названия фильмов:\n",
    "movie_titles = movie.set_index('movie id ')\n",
    "print(\"\\nMovie Titles:\")\n",
    "print(movie_titles.loc[recommendations.index][' movie title '])"
   ],
   "id": "e799858be4b65498",
   "outputs": [
    {
     "name": "stdout",
     "output_type": "stream",
     "text": [
      "\n",
      "Movie Titles:\n",
      "item_id\n",
      "238           Raising Arizona (1987)\n",
      "83     Much Ado About Nothing (1993)\n",
      "134              Citizen Kane (1941)\n",
      "582                Piano, The (1993)\n",
      "479                   Vertigo (1958)\n",
      "Name:  movie title , dtype: object\n"
     ]
    }
   ],
   "execution_count": 50
  },
  {
   "metadata": {
    "ExecuteTime": {
     "end_time": "2025-06-08T07:47:10.404523Z",
     "start_time": "2025-06-08T07:47:10.399349Z"
    }
   },
   "cell_type": "code",
   "source": [
    "def precision_at_k(target_user, k=5, n_recommendations=5):\n",
    "    # Получаем рекомендации\n",
    "    recommendations = recommend_movie(target_user, k=k, n_recommendations=n_recommendations)\n",
    "    if recommendations.empty:\n",
    "        return np.nan\n",
    "\n",
    "    # Получаем реальные фильмы, которые пользователь оценивал в тесте\n",
    "    true_movies = test[test['user_id'] == target_user]['item_id'].values\n",
    "\n",
    "    # Считаем пересечение\n",
    "    recommended_ids = recommendations.index.values\n",
    "    true_positive = set(recommended_ids) & set(true_movies)\n",
    "\n",
    "    return len(true_positive) / len(recommended_ids)\n"
   ],
   "id": "bd6377e8cfce5c28",
   "outputs": [],
   "execution_count": 51
  },
  {
   "metadata": {
    "ExecuteTime": {
     "end_time": "2025-06-08T07:47:15.370675Z",
     "start_time": "2025-06-08T07:47:11.366822Z"
    }
   },
   "cell_type": "code",
   "source": [
    "precisions = []\n",
    "users = test['user_id'].unique()\n",
    "\n",
    "for user in users:\n",
    "    try:\n",
    "        p = precision_at_k(user, k=5, n_recommendations=5)\n",
    "        if not np.isnan(p):\n",
    "            precisions.append(p)\n",
    "    except KeyError:\n",
    "        continue  # если пользователь не попал в train (например, все его оценки в test)\n",
    "\n",
    "print(f\"Средний Precision: {np.mean(precisions):.3f}\")\n"
   ],
   "id": "4a63d6d1b12502e0",
   "outputs": [
    {
     "name": "stdout",
     "output_type": "stream",
     "text": [
      "Средний Precision@5: 0.312\n"
     ]
    }
   ],
   "execution_count": 52
  },
  {
   "metadata": {},
   "cell_type": "code",
   "outputs": [],
   "execution_count": null,
   "source": "",
   "id": "b6ed6f99100b59a"
  }
 ],
 "metadata": {
  "kernelspec": {
   "display_name": "Python 3",
   "language": "python",
   "name": "python3"
  },
  "language_info": {
   "codemirror_mode": {
    "name": "ipython",
    "version": 2
   },
   "file_extension": ".py",
   "mimetype": "text/x-python",
   "name": "python",
   "nbconvert_exporter": "python",
   "pygments_lexer": "ipython2",
   "version": "2.7.6"
  }
 },
 "nbformat": 4,
 "nbformat_minor": 5
}
